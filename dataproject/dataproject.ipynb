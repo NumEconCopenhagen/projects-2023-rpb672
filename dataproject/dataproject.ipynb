{
 "cells": [
  {
   "cell_type": "markdown",
   "metadata": {},
   "source": [
    "# YOUR PROJECT TITLE"
   ]
  },
  {
   "attachments": {},
   "cell_type": "markdown",
   "metadata": {},
   "source": [
    "For this assignment, I will be using two data sets that are relevant to agriculture and weather in the United States, specifically North Dakota, being one of the biggest wheat producing states in the US. The first data set contains information on yearly corn yield per acre, from around 1900 to 2022. This data is from USDA National Agricultural Statistics Service (NASS). The second data set contains yearly average temperature, precipitation, and the date of the first freeze, from a central weather station in North Dakota, with data ranging from a similar interval as the agricultural data. This data is sourced from the National Oceanic and Atmospheric Administration (NOAA). By combining these data sets, the hope is to investigate the relationship between weather patterns and corn production in the North Dakota over the past century."
   ]
  },
  {
   "cell_type": "markdown",
   "metadata": {},
   "source": [
    "Imports and set magics:"
   ]
  },
  {
   "cell_type": "code",
   "execution_count": 362,
   "metadata": {},
   "outputs": [
    {
     "name": "stdout",
     "output_type": "stream",
     "text": [
      "The autoreload extension is already loaded. To reload it, use:\n",
      "  %reload_ext autoreload\n"
     ]
    }
   ],
   "source": [
    "import pandas as pd\n",
    "import numpy as np\n",
    "import matplotlib.pyplot as plt\n",
    "import ipywidgets as widgets\n",
    "\n",
    "# autoreload modules when code is run\n",
    "%load_ext autoreload\n",
    "%autoreload 2\n",
    "\n",
    "# user written modules\n",
    "import dataproject\n"
   ]
  },
  {
   "cell_type": "markdown",
   "metadata": {},
   "source": [
    "# Read and clean data"
   ]
  },
  {
   "attachments": {},
   "cell_type": "markdown",
   "metadata": {},
   "source": [
    "To begin, let's read the first data set on wheat yield and inspect it:"
   ]
  },
  {
   "cell_type": "code",
   "execution_count": 363,
   "metadata": {},
   "outputs": [
    {
     "name": "stdout",
     "output_type": "stream",
     "text": [
      "  Program  Year               Period  Week Ending Geo Level         State  \\\n",
      "0  SURVEY  2022                 YEAR          NaN     STATE  NORTH DAKOTA   \n",
      "1  SURVEY  2021                 YEAR          NaN     STATE  NORTH DAKOTA   \n",
      "2  SURVEY  2020                 YEAR          NaN     STATE  NORTH DAKOTA   \n",
      "3  SURVEY  2019                 YEAR          NaN     STATE  NORTH DAKOTA   \n",
      "4  SURVEY  2018                 YEAR          NaN     STATE  NORTH DAKOTA   \n",
      "5  SURVEY  2017                 YEAR          NaN     STATE  NORTH DAKOTA   \n",
      "6  SURVEY  2016                 YEAR          NaN     STATE  NORTH DAKOTA   \n",
      "7  SURVEY  2015                 YEAR          NaN     STATE  NORTH DAKOTA   \n",
      "8  SURVEY  2015  YEAR - AUG FORECAST          NaN     STATE  NORTH DAKOTA   \n",
      "9  SURVEY  2015  YEAR - JUL FORECAST          NaN     STATE  NORTH DAKOTA   \n",
      "\n",
      "   State ANSI  Ag District  Ag District Code  County  ...  Zip Code  Region  \\\n",
      "0          38          NaN               NaN     NaN  ...       NaN     NaN   \n",
      "1          38          NaN               NaN     NaN  ...       NaN     NaN   \n",
      "2          38          NaN               NaN     NaN  ...       NaN     NaN   \n",
      "3          38          NaN               NaN     NaN  ...       NaN     NaN   \n",
      "4          38          NaN               NaN     NaN  ...       NaN     NaN   \n",
      "5          38          NaN               NaN     NaN  ...       NaN     NaN   \n",
      "6          38          NaN               NaN     NaN  ...       NaN     NaN   \n",
      "7          38          NaN               NaN     NaN  ...       NaN     NaN   \n",
      "8          38          NaN               NaN     NaN  ...       NaN     NaN   \n",
      "9          38          NaN               NaN     NaN  ...       NaN     NaN   \n",
      "\n",
      "   watershed_code  Watershed  Commodity                             Data Item  \\\n",
      "0               0        NaN      WHEAT  WHEAT - YIELD, MEASURED IN BU / ACRE   \n",
      "1               0        NaN      WHEAT  WHEAT - YIELD, MEASURED IN BU / ACRE   \n",
      "2               0        NaN      WHEAT  WHEAT - YIELD, MEASURED IN BU / ACRE   \n",
      "3               0        NaN      WHEAT  WHEAT - YIELD, MEASURED IN BU / ACRE   \n",
      "4               0        NaN      WHEAT  WHEAT - YIELD, MEASURED IN BU / ACRE   \n",
      "5               0        NaN      WHEAT  WHEAT - YIELD, MEASURED IN BU / ACRE   \n",
      "6               0        NaN      WHEAT  WHEAT - YIELD, MEASURED IN BU / ACRE   \n",
      "7               0        NaN      WHEAT  WHEAT - YIELD, MEASURED IN BU / ACRE   \n",
      "8               0        NaN      WHEAT  WHEAT - YIELD, MEASURED IN BU / ACRE   \n",
      "9               0        NaN      WHEAT  WHEAT - YIELD, MEASURED IN BU / ACRE   \n",
      "\n",
      "  Domain Domain Category Value  CV (%)  \n",
      "0  TOTAL   NOT SPECIFIED  48.9     NaN  \n",
      "1  TOTAL   NOT SPECIFIED  32.2     NaN  \n",
      "2  TOTAL   NOT SPECIFIED  47.6     NaN  \n",
      "3  TOTAL   NOT SPECIFIED  48.4     NaN  \n",
      "4  TOTAL   NOT SPECIFIED  47.6     NaN  \n",
      "5  TOTAL   NOT SPECIFIED  37.9     NaN  \n",
      "6  TOTAL   NOT SPECIFIED  45.0     NaN  \n",
      "7  TOTAL   NOT SPECIFIED  46.7     NaN  \n",
      "8  TOTAL   NOT SPECIFIED  46.4     NaN  \n",
      "9  TOTAL   NOT SPECIFIED  46.4     NaN  \n",
      "\n",
      "[10 rows x 21 columns]\n"
     ]
    }
   ],
   "source": [
    "NDyield = pd.read_csv('ND_yield.csv')\n",
    "\n",
    "print(NDyield.head(10))\n"
   ]
  },
  {
   "attachments": {},
   "cell_type": "markdown",
   "metadata": {},
   "source": [
    "As can be seen, we have a lot of unnecessary information, that should be dropped for simplicity and to make the data set easier to manage. More importantly, the data also contains forecasts, and these are not needed, so should be deleted first: \n"
   ]
  },
  {
   "cell_type": "code",
   "execution_count": 364,
   "metadata": {},
   "outputs": [],
   "source": [
    "I = NDyield.Period.str.contains('FORECAST')\n",
    "NDyield = NDyield.loc[I == False] # Keep all rows without 'FORECAST' in the year variable\n",
    "NDyield.reset_index(inplace = True, drop = True) # Reset index"
   ]
  },
  {
   "attachments": {},
   "cell_type": "markdown",
   "metadata": {},
   "source": [
    "Next, let's make the data set narrower by dropping everything but the year and the average yield per acre (Most other variables have the same value in each row anyways, since all the data is from North Dakota)"
   ]
  },
  {
   "cell_type": "code",
   "execution_count": 365,
   "metadata": {},
   "outputs": [
    {
     "name": "stdout",
     "output_type": "stream",
     "text": [
      "    Year  Value\n",
      "0   2022   48.9\n",
      "1   2021   32.2\n",
      "2   2020   47.6\n",
      "3   2019   48.4\n",
      "4   2018   47.6\n",
      "..   ...    ...\n",
      "95  1927   12.9\n",
      "96  1926    8.6\n",
      "97  1925   12.3\n",
      "98  1924   15.3\n",
      "99  1923    8.2\n",
      "\n",
      "[100 rows x 2 columns]\n"
     ]
    }
   ],
   "source": [
    "drop_variables_yield = ['Program', 'Period', 'Week Ending','Geo Level','State','State ANSI','Ag District','Ag District Code', 'County', 'County ANSI', 'Zip Code', 'Region', 'watershed_code', 'Watershed','Commodity','Data Item', 'Domain', 'Domain Category', 'CV (%)']\n",
    "\n",
    "NDyield = NDyield.drop(columns = drop_variables_yield)\n",
    "\n",
    "print(NDyield.head(100))"
   ]
  },
  {
   "attachments": {},
   "cell_type": "markdown",
   "metadata": {},
   "source": [
    "Now we are left with the information relevant to this project, let's continue by importing the weather data:"
   ]
  },
  {
   "cell_type": "code",
   "execution_count": 366,
   "metadata": {},
   "outputs": [
    {
     "name": "stdout",
     "output_type": "stream",
     "text": [
      "       STATION                   NAME  DATE  FZF0  PRCP  TAVG\n",
      "0  USC00326365  NEW SALEM 5 NW, ND US  1923  30.0   NaN  40.9\n",
      "1  USC00326365  NEW SALEM 5 NW, ND US  1924   NaN   NaN   NaN\n",
      "2  USC00326365  NEW SALEM 5 NW, ND US  1925  27.0   NaN  43.0\n",
      "3  USC00326365  NEW SALEM 5 NW, ND US  1926  30.0   NaN   NaN\n",
      "4  USC00326365  NEW SALEM 5 NW, ND US  1927   NaN   NaN   NaN\n"
     ]
    }
   ],
   "source": [
    "NDweather = pd.read_csv('ND_weather.csv')\n",
    "\n",
    "print(NDweather.head(5))"
   ]
  },
  {
   "attachments": {},
   "cell_type": "markdown",
   "metadata": {},
   "source": [
    "Again we have some variables that can be dropped, namely 'NAME' and 'STATION', that are the same for each row."
   ]
  },
  {
   "cell_type": "code",
   "execution_count": 367,
   "metadata": {},
   "outputs": [
    {
     "name": "stdout",
     "output_type": "stream",
     "text": [
      "   DATE  FZF0   PRCP  TAVG\n",
      "0  1923  30.0    NaN  40.9\n",
      "1  1924   NaN    NaN   NaN\n",
      "2  1925  27.0    NaN  43.0\n",
      "3  1926  30.0    NaN   NaN\n",
      "4  1927   NaN    NaN   NaN\n",
      "5  1928  30.0    NaN  43.2\n",
      "6  1929   NaN    NaN   NaN\n",
      "7  1931  28.0    NaN   NaN\n",
      "8  1932  32.0    NaN  41.4\n",
      "9  1933  30.0  12.86  42.5\n"
     ]
    }
   ],
   "source": [
    "drop_variables_weather = ['STATION', 'NAME']\n",
    "NDweather = NDweather.drop(columns=drop_variables_weather)\n",
    "print(NDweather.head(10))"
   ]
  },
  {
   "attachments": {},
   "cell_type": "markdown",
   "metadata": {},
   "source": [
    "There also seems to be a lot of missing values. To locate these, the .isna function is used:"
   ]
  },
  {
   "cell_type": "code",
   "execution_count": 368,
   "metadata": {},
   "outputs": [
    {
     "data": {
      "text/html": [
       "<div>\n",
       "<style scoped>\n",
       "    .dataframe tbody tr th:only-of-type {\n",
       "        vertical-align: middle;\n",
       "    }\n",
       "\n",
       "    .dataframe tbody tr th {\n",
       "        vertical-align: top;\n",
       "    }\n",
       "\n",
       "    .dataframe thead th {\n",
       "        text-align: right;\n",
       "    }\n",
       "</style>\n",
       "<table border=\"1\" class=\"dataframe\">\n",
       "  <thead>\n",
       "    <tr style=\"text-align: right;\">\n",
       "      <th></th>\n",
       "      <th>DATE</th>\n",
       "      <th>FZF0</th>\n",
       "      <th>PRCP</th>\n",
       "      <th>TAVG</th>\n",
       "    </tr>\n",
       "  </thead>\n",
       "  <tbody>\n",
       "    <tr>\n",
       "      <th>0</th>\n",
       "      <td>1923</td>\n",
       "      <td>30.0</td>\n",
       "      <td>NaN</td>\n",
       "      <td>40.9</td>\n",
       "    </tr>\n",
       "    <tr>\n",
       "      <th>1</th>\n",
       "      <td>1924</td>\n",
       "      <td>NaN</td>\n",
       "      <td>NaN</td>\n",
       "      <td>NaN</td>\n",
       "    </tr>\n",
       "    <tr>\n",
       "      <th>2</th>\n",
       "      <td>1925</td>\n",
       "      <td>27.0</td>\n",
       "      <td>NaN</td>\n",
       "      <td>43.0</td>\n",
       "    </tr>\n",
       "    <tr>\n",
       "      <th>3</th>\n",
       "      <td>1926</td>\n",
       "      <td>30.0</td>\n",
       "      <td>NaN</td>\n",
       "      <td>NaN</td>\n",
       "    </tr>\n",
       "    <tr>\n",
       "      <th>4</th>\n",
       "      <td>1927</td>\n",
       "      <td>NaN</td>\n",
       "      <td>NaN</td>\n",
       "      <td>NaN</td>\n",
       "    </tr>\n",
       "    <tr>\n",
       "      <th>5</th>\n",
       "      <td>1928</td>\n",
       "      <td>30.0</td>\n",
       "      <td>NaN</td>\n",
       "      <td>43.2</td>\n",
       "    </tr>\n",
       "    <tr>\n",
       "      <th>6</th>\n",
       "      <td>1929</td>\n",
       "      <td>NaN</td>\n",
       "      <td>NaN</td>\n",
       "      <td>NaN</td>\n",
       "    </tr>\n",
       "    <tr>\n",
       "      <th>7</th>\n",
       "      <td>1931</td>\n",
       "      <td>28.0</td>\n",
       "      <td>NaN</td>\n",
       "      <td>NaN</td>\n",
       "    </tr>\n",
       "    <tr>\n",
       "      <th>8</th>\n",
       "      <td>1932</td>\n",
       "      <td>32.0</td>\n",
       "      <td>NaN</td>\n",
       "      <td>41.4</td>\n",
       "    </tr>\n",
       "    <tr>\n",
       "      <th>13</th>\n",
       "      <td>1937</td>\n",
       "      <td>32.0</td>\n",
       "      <td>NaN</td>\n",
       "      <td>38.9</td>\n",
       "    </tr>\n",
       "    <tr>\n",
       "      <th>14</th>\n",
       "      <td>1938</td>\n",
       "      <td>31.0</td>\n",
       "      <td>NaN</td>\n",
       "      <td>42.3</td>\n",
       "    </tr>\n",
       "    <tr>\n",
       "      <th>15</th>\n",
       "      <td>1939</td>\n",
       "      <td>30.0</td>\n",
       "      <td>NaN</td>\n",
       "      <td>42.9</td>\n",
       "    </tr>\n",
       "    <tr>\n",
       "      <th>16</th>\n",
       "      <td>1940</td>\n",
       "      <td>26.0</td>\n",
       "      <td>NaN</td>\n",
       "      <td>40.9</td>\n",
       "    </tr>\n",
       "    <tr>\n",
       "      <th>18</th>\n",
       "      <td>1942</td>\n",
       "      <td>29.0</td>\n",
       "      <td>NaN</td>\n",
       "      <td>42.4</td>\n",
       "    </tr>\n",
       "    <tr>\n",
       "      <th>19</th>\n",
       "      <td>1943</td>\n",
       "      <td>27.0</td>\n",
       "      <td>18.73</td>\n",
       "      <td>NaN</td>\n",
       "    </tr>\n",
       "    <tr>\n",
       "      <th>23</th>\n",
       "      <td>1947</td>\n",
       "      <td>28.0</td>\n",
       "      <td>NaN</td>\n",
       "      <td>41.8</td>\n",
       "    </tr>\n",
       "    <tr>\n",
       "      <th>24</th>\n",
       "      <td>1948</td>\n",
       "      <td>NaN</td>\n",
       "      <td>NaN</td>\n",
       "      <td>NaN</td>\n",
       "    </tr>\n",
       "    <tr>\n",
       "      <th>26</th>\n",
       "      <td>1950</td>\n",
       "      <td>30.0</td>\n",
       "      <td>17.66</td>\n",
       "      <td>NaN</td>\n",
       "    </tr>\n",
       "    <tr>\n",
       "      <th>28</th>\n",
       "      <td>1952</td>\n",
       "      <td>32.0</td>\n",
       "      <td>9.93</td>\n",
       "      <td>NaN</td>\n",
       "    </tr>\n",
       "    <tr>\n",
       "      <th>32</th>\n",
       "      <td>1956</td>\n",
       "      <td>NaN</td>\n",
       "      <td>18.16</td>\n",
       "      <td>NaN</td>\n",
       "    </tr>\n",
       "    <tr>\n",
       "      <th>99</th>\n",
       "      <td>2023</td>\n",
       "      <td>NaN</td>\n",
       "      <td>NaN</td>\n",
       "      <td>NaN</td>\n",
       "    </tr>\n",
       "  </tbody>\n",
       "</table>\n",
       "</div>"
      ],
      "text/plain": [
       "    DATE  FZF0   PRCP  TAVG\n",
       "0   1923  30.0    NaN  40.9\n",
       "1   1924   NaN    NaN   NaN\n",
       "2   1925  27.0    NaN  43.0\n",
       "3   1926  30.0    NaN   NaN\n",
       "4   1927   NaN    NaN   NaN\n",
       "5   1928  30.0    NaN  43.2\n",
       "6   1929   NaN    NaN   NaN\n",
       "7   1931  28.0    NaN   NaN\n",
       "8   1932  32.0    NaN  41.4\n",
       "13  1937  32.0    NaN  38.9\n",
       "14  1938  31.0    NaN  42.3\n",
       "15  1939  30.0    NaN  42.9\n",
       "16  1940  26.0    NaN  40.9\n",
       "18  1942  29.0    NaN  42.4\n",
       "19  1943  27.0  18.73   NaN\n",
       "23  1947  28.0    NaN  41.8\n",
       "24  1948   NaN    NaN   NaN\n",
       "26  1950  30.0  17.66   NaN\n",
       "28  1952  32.0   9.93   NaN\n",
       "32  1956   NaN  18.16   NaN\n",
       "99  2023   NaN    NaN   NaN"
      ]
     },
     "execution_count": 368,
     "metadata": {},
     "output_type": "execute_result"
    }
   ],
   "source": [
    "NDweather[NDweather.isna().any(axis=1)] # Returns rows (axis=1) with NaN values from the entire dataframe with .any\n"
   ]
  },
  {
   "attachments": {},
   "cell_type": "markdown",
   "metadata": {},
   "source": [
    "To drop the rows with NaN, iloc can be used to slice the dataframe. At the same time the ordering of the weather data is also opposite from the yield data, and this too can be accounted for using reset_index in connection with .iloc:"
   ]
  },
  {
   "cell_type": "code",
   "execution_count": 369,
   "metadata": {},
   "outputs": [
    {
     "name": "stdout",
     "output_type": "stream",
     "text": [
      "    DATE  FZF0   PRCP  TAVG\n",
      "0   2022  16.0  21.21  40.0\n",
      "1   2021  30.0  14.49  44.3\n",
      "2   2020  27.0  10.66  42.7\n",
      "3   2019  31.0  27.69  38.0\n",
      "4   2018  29.0  17.93  39.9\n",
      "..   ...   ...    ...   ...\n",
      "61  1961  30.0  13.44  42.3\n",
      "62  1960  30.0  14.92  41.8\n",
      "63  1959  22.0  10.95  41.0\n",
      "64  1958  32.0  10.57  42.4\n",
      "65  1957  30.0  19.73  41.6\n",
      "\n",
      "[66 rows x 4 columns]\n"
     ]
    }
   ],
   "source": [
    "NDweather = NDweather.iloc[98:32:-1].reset_index(drop=True)\n",
    "print(NDweather.head(100))"
   ]
  },
  {
   "attachments": {},
   "cell_type": "markdown",
   "metadata": {},
   "source": [
    "Now let's see if there are any NaN values left:"
   ]
  },
  {
   "cell_type": "code",
   "execution_count": 370,
   "metadata": {},
   "outputs": [
    {
     "data": {
      "text/html": [
       "<div>\n",
       "<style scoped>\n",
       "    .dataframe tbody tr th:only-of-type {\n",
       "        vertical-align: middle;\n",
       "    }\n",
       "\n",
       "    .dataframe tbody tr th {\n",
       "        vertical-align: top;\n",
       "    }\n",
       "\n",
       "    .dataframe thead th {\n",
       "        text-align: right;\n",
       "    }\n",
       "</style>\n",
       "<table border=\"1\" class=\"dataframe\">\n",
       "  <thead>\n",
       "    <tr style=\"text-align: right;\">\n",
       "      <th></th>\n",
       "      <th>DATE</th>\n",
       "      <th>FZF0</th>\n",
       "      <th>PRCP</th>\n",
       "      <th>TAVG</th>\n",
       "    </tr>\n",
       "  </thead>\n",
       "  <tbody>\n",
       "  </tbody>\n",
       "</table>\n",
       "</div>"
      ],
      "text/plain": [
       "Empty DataFrame\n",
       "Columns: [DATE, FZF0, PRCP, TAVG]\n",
       "Index: []"
      ]
     },
     "execution_count": 370,
     "metadata": {},
     "output_type": "execute_result"
    }
   ],
   "source": [
    "NDweather[NDweather.isna().any(axis=1)]"
   ]
  },
  {
   "attachments": {},
   "cell_type": "markdown",
   "metadata": {},
   "source": [
    "Next, the yield data should also be sliced to only include 1957-2022:"
   ]
  },
  {
   "cell_type": "code",
   "execution_count": 371,
   "metadata": {},
   "outputs": [
    {
     "name": "stdout",
     "output_type": "stream",
     "text": [
      "    Year  Value\n",
      "0   2022   48.9\n",
      "1   2021   32.2\n",
      "2   2020   47.6\n",
      "3   2019   48.4\n",
      "4   2018   47.6\n",
      "..   ...    ...\n",
      "61  1961   12.1\n",
      "62  1960   19.8\n",
      "63  1959   15.0\n",
      "64  1958   23.1\n",
      "65  1957   18.8\n",
      "\n",
      "[66 rows x 2 columns]\n"
     ]
    }
   ],
   "source": [
    "NDyield = NDyield.iloc[0:66:]\n",
    "print(NDyield.head(100))"
   ]
  },
  {
   "cell_type": "markdown",
   "metadata": {},
   "source": [
    "## Explore each data set"
   ]
  },
  {
   "cell_type": "markdown",
   "metadata": {},
   "source": [
    "In order to be able to **explore the raw data**, you may provide **static** and **interactive plots** to show important developments "
   ]
  },
  {
   "cell_type": "markdown",
   "metadata": {},
   "source": [
    "**Interactive plot** :"
   ]
  },
  {
   "cell_type": "code",
   "execution_count": 372,
   "metadata": {},
   "outputs": [
    {
     "data": {
      "application/vnd.jupyter.widget-view+json": {
       "model_id": "09086042e55940edbfa97818a2de896a",
       "version_major": 2,
       "version_minor": 0
      },
      "text/plain": [
       "interactive(children=(Output(),), _dom_classes=('widget-interact',))"
      ]
     },
     "metadata": {},
     "output_type": "display_data"
    }
   ],
   "source": [
    "def plot_func():\n",
    "    # Function that operates on data set\n",
    "    pass\n",
    "\n",
    "widgets.interact(plot_func, \n",
    "    # Let the widget interact with data through plot_func()    \n",
    "); \n"
   ]
  },
  {
   "cell_type": "markdown",
   "metadata": {},
   "source": [
    "Explain what you see when moving elements of the interactive plot around. "
   ]
  },
  {
   "cell_type": "markdown",
   "metadata": {},
   "source": [
    "# Merge data sets"
   ]
  },
  {
   "cell_type": "markdown",
   "metadata": {},
   "source": [
    "Now you create combinations of your loaded data sets. Remember the illustration of a (inner) **merge**:"
   ]
  },
  {
   "cell_type": "code",
   "execution_count": 373,
   "metadata": {},
   "outputs": [
    {
     "ename": "NameError",
     "evalue": "name 'venn2' is not defined",
     "output_type": "error",
     "traceback": [
      "\u001b[1;31m---------------------------------------------------------------------------\u001b[0m",
      "\u001b[1;31mNameError\u001b[0m                                 Traceback (most recent call last)",
      "Cell \u001b[1;32mIn[373], line 2\u001b[0m\n\u001b[0;32m      1\u001b[0m plt\u001b[39m.\u001b[39mfigure(figsize\u001b[39m=\u001b[39m(\u001b[39m15\u001b[39m,\u001b[39m7\u001b[39m))\n\u001b[1;32m----> 2\u001b[0m v \u001b[39m=\u001b[39m venn2(subsets \u001b[39m=\u001b[39m (\u001b[39m4\u001b[39m, \u001b[39m4\u001b[39m, \u001b[39m10\u001b[39m), set_labels \u001b[39m=\u001b[39m (\u001b[39m'\u001b[39m\u001b[39mData X\u001b[39m\u001b[39m'\u001b[39m, \u001b[39m'\u001b[39m\u001b[39mData Y\u001b[39m\u001b[39m'\u001b[39m))\n\u001b[0;32m      3\u001b[0m v\u001b[39m.\u001b[39mget_label_by_id(\u001b[39m'\u001b[39m\u001b[39m100\u001b[39m\u001b[39m'\u001b[39m)\u001b[39m.\u001b[39mset_text(\u001b[39m'\u001b[39m\u001b[39mdropped\u001b[39m\u001b[39m'\u001b[39m)\n\u001b[0;32m      4\u001b[0m v\u001b[39m.\u001b[39mget_label_by_id(\u001b[39m'\u001b[39m\u001b[39m010\u001b[39m\u001b[39m'\u001b[39m)\u001b[39m.\u001b[39mset_text(\u001b[39m'\u001b[39m\u001b[39mdropped\u001b[39m\u001b[39m'\u001b[39m )\n",
      "\u001b[1;31mNameError\u001b[0m: name 'venn2' is not defined"
     ]
    },
    {
     "data": {
      "text/plain": [
       "<Figure size 1500x700 with 0 Axes>"
      ]
     },
     "metadata": {},
     "output_type": "display_data"
    }
   ],
   "source": [
    "plt.figure(figsize=(15,7))\n",
    "v = venn2(subsets = (4, 4, 10), set_labels = ('Data X', 'Data Y'))\n",
    "v.get_label_by_id('100').set_text('dropped')\n",
    "v.get_label_by_id('010').set_text('dropped' )\n",
    "v.get_label_by_id('110').set_text('included')\n",
    "plt.show()"
   ]
  },
  {
   "cell_type": "markdown",
   "metadata": {},
   "source": [
    "Here we are dropping elements from both data set X and data set Y. A left join would keep all observations in data X intact and subset only from Y. \n",
    "\n",
    "Make sure that your resulting data sets have the correct number of rows and columns. That is, be clear about which observations are thrown away. \n",
    "\n",
    "**Note:** Don't make Venn diagrams in your own data project. It is just for exposition. "
   ]
  },
  {
   "cell_type": "markdown",
   "metadata": {},
   "source": [
    "# Analysis"
   ]
  },
  {
   "cell_type": "markdown",
   "metadata": {},
   "source": [
    "To get a quick overview of the data, we show some **summary statistics** on a meaningful aggregation. "
   ]
  },
  {
   "cell_type": "markdown",
   "metadata": {},
   "source": [
    "MAKE FURTHER ANALYSIS. EXPLAIN THE CODE BRIEFLY AND SUMMARIZE THE RESULTS."
   ]
  },
  {
   "cell_type": "markdown",
   "metadata": {},
   "source": [
    "# Conclusion"
   ]
  },
  {
   "cell_type": "markdown",
   "metadata": {},
   "source": [
    "ADD CONCISE CONLUSION."
   ]
  }
 ],
 "metadata": {
  "kernelspec": {
   "display_name": "base",
   "language": "python",
   "name": "python3"
  },
  "language_info": {
   "codemirror_mode": {
    "name": "ipython",
    "version": 3
   },
   "file_extension": ".py",
   "mimetype": "text/x-python",
   "name": "python",
   "nbconvert_exporter": "python",
   "pygments_lexer": "ipython3",
   "version": "3.10.10"
  },
  "toc-autonumbering": true,
  "vscode": {
   "interpreter": {
    "hash": "47ef90cdf3004d3f859f1fb202523c65c07ba7c22eefd261b181f4744e2d0403"
   }
  }
 },
 "nbformat": 4,
 "nbformat_minor": 4
}
